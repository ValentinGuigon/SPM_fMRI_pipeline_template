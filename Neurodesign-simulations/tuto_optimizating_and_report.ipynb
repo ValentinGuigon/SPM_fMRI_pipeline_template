{
 "cells": [
  {
   "cell_type": "markdown",
   "id": "a7a5e99a",
   "metadata": {},
   "source": [
    "# Setting Up `neurodesign` and `deconvolve`\n",
    "\n",
    "To work with the `neurodesign` and `deconvolve` packages for experiment creation, we recommend setting up a Python virtual environment. This ensures that your project dependencies remain isolated and reproducible.\n",
    "\n",
    "---\n",
    "\n",
    "**I. Clone and open the repository folder in Visual Studio Code.**\n",
    "\n",
    "---\n",
    "\n",
    "**II. Create a virtual environment**\n",
    "\n",
    "You can do this either through the VS Code interface or directly in the terminal.\n",
    "\n",
    "**A. Using VS Code GUI:**\n",
    "1. Open the Command Palette:  \n",
    "   `View > Command Palette`\n",
    "2. Search for and select:  \n",
    "   `Python: Select Interpreter`\n",
    "3. Click:  \n",
    "   `+ Create Environment`\n",
    "4. Choose the environment type:  \n",
    "   `venv`\n",
    "5. Select a Python interpreter (version `>= 3.9`, e.g., `Python 3.13.1`)\n",
    "\n",
    "**B. Using the Terminal:**\n",
    "\n",
    "From the root of the project folder, run:\n",
    "```bash\n",
    "python -m venv venv\n",
    "```\n",
    "\n",
    "---\n",
    "\n",
    "**III. Activate the virtual environment**\n",
    "\n",
    "- On macOS/Linux:\n",
    "  ```bash\n",
    "  source venv/bin/activate\n",
    "  ```\n",
    "- On Windows:\n",
    "  ```bash\n",
    "  venv\\Scripts\\Activate.ps1\n",
    "  ```\n",
    "\n",
    "---\n",
    "\n",
    "**IV. Install required packages**\n",
    "\n",
    "With the virtual environment activated, install dependencies:\n",
    "```bash\n",
    "pip install git+https://github.com/neuropower/neurodesign.git\n",
    "pip install -r requirements.txt\n",
    "```\n",
    "\n",
    "To deactivate the environment when you're done:\n",
    "```bash\n",
    "deactivate\n",
    "```\n",
    "\n",
    "---\n",
    "\n",
    "**V. (Optional) Use the virtual environment in Jupyter Notebooks**\n",
    "\n",
    "If you're working in `.ipynb` notebooks, register the virtual environment as a Jupyter kernel:\n",
    "```bash\n",
    "python -m ipykernel install --user --name=venv --display-name \"Python (neurodesign venv)\"\n",
    "```\n",
    "\n",
    "Reload VSC. Then, in Jupyter, select the `\"Python (neurodesign venv)\"` kernel when working on notebooks.\n",
    "\n",
    "---\n",
    "\n",
    "**Note:** At this stage, we are primarily using the `neurodesign` package.\n",
    "\n",
    "---"
   ]
  },
  {
   "cell_type": "markdown",
   "id": "6b10af8d",
   "metadata": {},
   "source": [
    "## Design Setup and Automatic Optimization\n",
    "\n",
    "\n",
    "Commented code taken from the tutorial folder for Neurodesign GitHub [repository](https://github.com/neuropower/neurodesign/tree/master/examples)\n",
    "\n",
    "We automatically generate and evaluate optimal fMRI experimental designs using a genetic algorithm, and then export a detailed PDF report summarizing the results.\n",
    "\n",
    "---"
   ]
  },
  {
   "cell_type": "markdown",
   "id": "05a3dc0d",
   "metadata": {},
   "source": [
    "### Step 1: Initial imports"
   ]
  },
  {
   "cell_type": "code",
   "execution_count": 1,
   "id": "7f4a96aa",
   "metadata": {},
   "outputs": [],
   "source": [
    "import numpy as np\n",
    "import matplotlib.pyplot as plt\n",
    "import neurodesign"
   ]
  },
  {
   "cell_type": "code",
   "execution_count": 2,
   "id": "e93e08a0",
   "metadata": {},
   "outputs": [],
   "source": [
    "import os\n",
    "# Since Neurodesign uses multi-threading internally, limit the number of threads\n",
    "os.environ[\"OMP_NUM_THREADS\"] = \"1\"\n",
    "os.environ[\"OPENBLAS_NUM_THREADS\"] = \"1\"\n",
    "os.environ[\"MKL_NUM_THREADS\"] = \"1\""
   ]
  },
  {
   "cell_type": "markdown",
   "id": "097dbc49",
   "metadata": {},
   "source": [
    "### Step 2: Define the Experimental Setup\n",
    "- **Experiment Object (`exp`)**: The experimental parameters are defined here:\n",
    "  - **TR (Repetition Time)** is set to 2 seconds.\n",
    "  - **n_trials**: The experiment consists of 100 trials.\n",
    "  - **P**: The probabilities for each of the three conditions are set to 0.33 (equal probability).\n",
    "  - **C**: The contrast matrix specifies the contrasts between conditions (e.g., condition 1 vs. condition 2).\n",
    "  - **n_stimuli**: There are 3 distinct stimuli presented in the experiment.\n",
    "  - **rho**: The autocorrelation between trials is set to 0.3, which models the correlation between consecutive trials.\n",
    "  - **stim_duration**: Each stimulus is presented for 1 second.\n",
    "  - **t_pre**: There is no time before the stimulus onset (t_pre=0).\n",
    "  - **t_post**: A post-stimulus duration of 2 seconds is included.\n",
    "  - **ITI Model**: The inter-trial interval (ITI) is modeled using an exponential distribution.\n",
    "  - **ITImin, ITImean, ITImax**: The inter-trial interval is between 1 and 4 seconds, with a mean of 2 seconds."
   ]
  },
  {
   "cell_type": "code",
   "execution_count": 10,
   "id": "8049f794",
   "metadata": {},
   "outputs": [
    {
     "name": "stderr",
     "output_type": "stream",
     "text": [
      "c:\\Users\\vguigon\\Desktop\\Research_directory\\Lab_SLD\\sld_simulating_fmri\\venv\\Lib\\site-packages\\neurodesign\\classes.py:484: UserWarning: the resolution is adjusted to be a multiple of the TR. New resolution: 0.1\n",
      "  warnings.warn(\n",
      "c:\\Users\\vguigon\\Desktop\\Research_directory\\Lab_SLD\\sld_simulating_fmri\\venv\\Lib\\site-packages\\neurodesign\\classes.py:643: RuntimeWarning: divide by zero encountered in log\n",
      "  res = (h - 1) * np.log(s) + h * np.log(l) - l * s - np.log(gamma(h))\n"
     ]
    }
   ],
   "source": [
    "from pathlib import Path\n",
    "\n",
    "from neurodesign import Experiment, Optimisation, report\n",
    "\n",
    "# Define the output directory where results will be saved\n",
    "output_dir = Path(\"./output/tuto_optimizing_designs\")\n",
    "output_dir.mkdir(parents=True, exist_ok=True)\n",
    "\n",
    "# -------------------------------\n",
    "# DEFINE EXPERIMENT PARAMETERS\n",
    "# -------------------------------\n",
    "\n",
    "# Create an Experiment object specifying the experimental setup\n",
    "exp = Experiment(\n",
    "    TR=2,  # Repetition time (in seconds)\n",
    "    n_trials=100,  # Number of trials in the experiment\n",
    "    P=[0.33, 0.33, 0.33],  # Probabilities for three conditions (equally likely)\n",
    "    C=[[1, 0, 0], [0, 1, 0], [0, 0, 1], [1, -1, 0], [0, 1, -1]],  # Contrast matrix\n",
    "    n_stimuli=3,  # Number of distinct stimuli\n",
    "    rho=0.3,  # Autocorrelation between trials (correlation structure)\n",
    "    resolution=0.1,  # Temporal resolution of the design\n",
    "    stim_duration=1,  # Duration of each stimulus presentation (in seconds)\n",
    "    t_pre=0,  # Time before stimulus onset\n",
    "    t_post=2,  # Time after stimulus offset\n",
    "    restnum=0,  # Number of rest periods\n",
    "    restdur=0,  # Duration of rest periods\n",
    "    ITImodel=\"exponential\",  # Model for inter-trial interval (exponential distribution)\n",
    "    ITImin=1,  # Minimum inter-trial interval (in seconds)\n",
    "    ITImean=2,  # Mean inter-trial interval (in seconds)\n",
    "    ITImax=4,  # Maximum inter-trial interval (in seconds)\n",
    ")"
   ]
  },
  {
   "cell_type": "markdown",
   "id": "8f3c4e3b",
   "metadata": {},
   "source": [
    "### Step 3: Setup the Optimization Parameters\n",
    "- **Optimisation Object (`population`)**: This object defines the optimization parameters:\n",
    "  - **weights**: The relative importance of different factors during the optimization (Fd, Ff, confounding, and frequency balance). Fd and Ff are weighted more heavily (0.5) compared to the others (0.25).\n",
    "  - **preruncycles**: 10 warm-up cycles are run before the main optimization.\n",
    "  - **cycles**: The main optimization is run for 10 cycles.\n",
    "  - **seed**: A random seed (1) is used for reproducibility of results.\n",
    "  - **outdes**: The top 5 designs will be output after the optimization.\n",
    "  - **folder**: The optimization results will be saved in the `output` folder."
   ]
  },
  {
   "cell_type": "code",
   "execution_count": 5,
   "id": "ea5355a2",
   "metadata": {},
   "outputs": [],
   "source": [
    "# -------------------------------\n",
    "# SETUP OPTIMIZATION PARAMETERS\n",
    "# -------------------------------\n",
    "\n",
    "# Create an Optimisation object that will be used to optimize the experimental design\n",
    "population = Optimisation(\n",
    "    experiment=exp,  # Link to the experiment defined above\n",
    "    weights=[0, 0.5, 0.25, 0.25],  # Weights for Fd, Ff, confounding, and frequency (importance of each metric)\n",
    "    preruncycles=10,  # Number of \"warm-up\" iterations before starting the optimization\n",
    "    cycles=10,  # Number of optimization cycles (main iterations)\n",
    "    seed=1,  # Random seed for reproducibility\n",
    "    outdes=5,  # Number of output designs to return\n",
    "    folder=output_dir,  # Folder where the optimization results will be saved\n",
    ")"
   ]
  },
  {
   "cell_type": "markdown",
   "id": "978309fb",
   "metadata": {},
   "source": [
    "### Step 4: Run the Optimization (Natural Selection Process)\n",
    "- The **optimisation** process is executed via the `optimise()` method, which runs a genetic algorithm to find the best experimental design.\n",
    "- **Download**: The best designs, along with their related data, are downloaded.\n",
    "- **Evaluate**: The optimized designs are evaluated based on the defined metrics (Fd, Ff, etc.)."
   ]
  },
  {
   "cell_type": "code",
   "execution_count": 6,
   "id": "98315458",
   "metadata": {},
   "outputs": [
    {
     "data": {
      "text/html": [
       "<pre style=\"white-space:pre;overflow-x:auto;line-height:normal;font-family:Menlo,'DejaVu Sans Mono',consolas,'Courier New',monospace\">c:\\Users\\vguigon\\Desktop\\Research_directory\\Lab_SLD\\sld_simulating_fmri\\venv\\Lib\\site-packages\\rich\\live.py:231: \n",
       "UserWarning: install \"ipywidgets\" for Jupyter support\n",
       "  warnings.warn('install \"ipywidgets\" for Jupyter support')\n",
       "</pre>\n"
      ],
      "text/plain": [
       "c:\\Users\\vguigon\\Desktop\\Research_directory\\Lab_SLD\\sld_simulating_fmri\\venv\\Lib\\site-packages\\rich\\live.py:231: \n",
       "UserWarning: install \"ipywidgets\" for Jupyter support\n",
       "  warnings.warn('install \"ipywidgets\" for Jupyter support')\n"
      ]
     },
     "metadata": {},
     "output_type": "display_data"
    },
    {
     "data": {
      "text/html": [
       "<pre style=\"white-space:pre;overflow-x:auto;line-height:normal;font-family:Menlo,'DejaVu Sans Mono',consolas,'Courier New',monospace\"></pre>\n"
      ],
      "text/plain": []
     },
     "metadata": {},
     "output_type": "display_data"
    },
    {
     "data": {
      "text/html": [
       "<pre style=\"white-space:pre;overflow-x:auto;line-height:normal;font-family:Menlo,'DejaVu Sans Mono',consolas,'Courier New',monospace\"></pre>\n"
      ],
      "text/plain": []
     },
     "metadata": {},
     "output_type": "display_data"
    },
    {
     "data": {
      "text/plain": [
       "<neurodesign.classes.Optimisation at 0x1cfea4c1010>"
      ]
     },
     "execution_count": 6,
     "metadata": {},
     "output_type": "execute_result"
    }
   ],
   "source": [
    "# -------------------------------\n",
    "# RUN NATURAL SELECTION (GENETIC ALGORITHM)\n",
    "# -------------------------------\n",
    "\n",
    "# Execute the optimization process\n",
    "population.optimise()\n",
    "\n",
    "# Download the best designs and their related data\n",
    "population.download()\n",
    "\n",
    "# Evaluate the optimization results (e.g., check efficiency metrics)\n",
    "population.evaluate()"
   ]
  },
  {
   "cell_type": "markdown",
   "id": "9d1f9b79",
   "metadata": {},
   "source": [
    "### Step 5: Step-by-Step Simulation of Evolution\n",
    "- **add_new_designs()**: New designs are added to the population after optimization.\n",
    "- **to_next_generation()**: The population moves to the next generation, evolving the designs over two iterations with different random seeds."
   ]
  },
  {
   "cell_type": "code",
   "execution_count": 7,
   "id": "08a99099",
   "metadata": {},
   "outputs": [
    {
     "data": {
      "text/plain": [
       "<neurodesign.classes.Optimisation at 0x1cfea4c1010>"
      ]
     },
     "execution_count": 7,
     "metadata": {},
     "output_type": "execute_result"
    }
   ],
   "source": [
    "# -------------------------------\n",
    "# STEP BY STEP SIMULATION OF EVOLUTION\n",
    "# -------------------------------\n",
    "\n",
    "# Add new designs to the population (based on optimization process)\n",
    "population.add_new_designs()\n",
    "\n",
    "# Move to the next generation of designs using a specific random seed for reproducibility\n",
    "population.to_next_generation(seed=1)\n",
    "population.to_next_generation(seed=1001)"
   ]
  },
  {
   "cell_type": "markdown",
   "id": "2ad7e7d4",
   "metadata": {},
   "source": [
    "### Step 6: Export Final Report\n",
    "- The final **PDF report** is generated using the `report.make_report()` function, summarizing the optimization results and the best designs found. The report is saved in the `output` folder as `test.pdf`."
   ]
  },
  {
   "cell_type": "code",
   "execution_count": 9,
   "id": "b18baf57",
   "metadata": {},
   "outputs": [],
   "source": [
    "# -------------------------------\n",
    "# EXPORT FINAL REPORT\n",
    "# -------------------------------\n",
    "\n",
    "# Generate a PDF report summarizing the results of the optimization\n",
    "report.make_report(population, output_dir / \"tuto_optimizing_designs_report.pdf\")"
   ]
  }
 ],
 "metadata": {
  "kernelspec": {
   "display_name": "venv",
   "language": "python",
   "name": "python3"
  },
  "language_info": {
   "codemirror_mode": {
    "name": "ipython",
    "version": 3
   },
   "file_extension": ".py",
   "mimetype": "text/x-python",
   "name": "python",
   "nbconvert_exporter": "python",
   "pygments_lexer": "ipython3",
   "version": "3.13.0"
  }
 },
 "nbformat": 4,
 "nbformat_minor": 5
}
